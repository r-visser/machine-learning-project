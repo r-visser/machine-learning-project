{
 "cells": [
  {
   "cell_type": "code",
   "execution_count": 7,
   "metadata": {},
   "outputs": [],
   "source": [
    "import pandas as pd\n",
    "import numpy as np\n",
    "import scipy\n",
    "from sklearn.naive_bayes import MultinomialNB"
   ]
  },
  {
   "cell_type": "code",
   "execution_count": 8,
   "metadata": {},
   "outputs": [],
   "source": [
    "from sklearn.metrics import precision_score\n",
    "from sklearn.metrics import recall_score\n",
    "from sklearn.metrics import f1_score\n",
    "from sklearn.metrics import accuracy_score\n",
    "\n",
    "def evaluation_scores(y_pred, y_test):\n",
    "    precision = precision_score(y_test, y_pred, average='macro')\n",
    "    print(\"precision: \"+str(precision))\n",
    "    recall = recall_score(y_test, y_pred, average='macro') \n",
    "    print(\"recall: \"+str(recall))\n",
    "    f_score_class = f1_score(y_test, y_pred, average=None)\n",
    "    print(\"f-score per class: \"+str(f_score_class))\n",
    "    f_macro = f1_score(y_test, y_pred, average='macro')  \n",
    "    print(\"f-score macro: \"+str(f_macro))\n",
    "    acc = accuracy_score(y_test, y_pred)\n",
    "    print(\"accuracy score: \"+str(acc))"
   ]
  },
  {
   "cell_type": "code",
   "execution_count": 41,
   "metadata": {},
   "outputs": [],
   "source": [
    "train_data = pd.read_csv('train_data.csv',\n",
    "                        sep='\\t',\n",
    "                        encoding='utf-8',\n",
    "                        index_col=0)"
   ]
  },
  {
   "cell_type": "code",
   "execution_count": 42,
   "metadata": {},
   "outputs": [],
   "source": [
    "test_data = pd.read_csv('test_data.csv',\n",
    "                        sep='\\t',\n",
    "                        encoding='utf-8',\n",
    "                        index_col=0)"
   ]
  },
  {
   "cell_type": "code",
   "execution_count": 47,
   "metadata": {},
   "outputs": [],
   "source": [
    "sparse_matrix = scipy.sparse.load_npz('count_vector_data.npz')"
   ]
  },
  {
   "cell_type": "code",
   "execution_count": 48,
   "metadata": {},
   "outputs": [],
   "source": [
    "x_train = sparse_matrix[:train_data.shape[0]]\n",
    "y_train = train_data.hyperpartisan"
   ]
  },
  {
   "cell_type": "code",
   "execution_count": 49,
   "metadata": {},
   "outputs": [],
   "source": [
    "x_test = sparse_matrix[train_data.shape[0]:]\n",
    "y_test = test_data.hyperpartisan"
   ]
  },
  {
   "cell_type": "code",
   "execution_count": 50,
   "metadata": {},
   "outputs": [],
   "source": [
    "clf = MultinomialNB()\n",
    "model = clf.fit(x_train, y_train)"
   ]
  },
  {
   "cell_type": "code",
   "execution_count": 51,
   "metadata": {},
   "outputs": [
    {
     "name": "stdout",
     "output_type": "stream",
     "text": [
      "precision: 0.47610294117647056\n",
      "recall: 0.47912484945804895\n",
      "f-score per class: [0.5785124  0.35443038]\n",
      "f-score macro: 0.46647138822052503\n",
      "accuracy score: 0.49\n"
     ]
    }
   ],
   "source": [
    "y_pred = model.predict(x_test)\n",
    "evaluation_scores(y_pred, y_test)"
   ]
  }
 ],
 "metadata": {
  "kernelspec": {
   "display_name": "Python 3",
   "language": "python",
   "name": "python3"
  },
  "language_info": {
   "codemirror_mode": {
    "name": "ipython",
    "version": 3
   },
   "file_extension": ".py",
   "mimetype": "text/x-python",
   "name": "python",
   "nbconvert_exporter": "python",
   "pygments_lexer": "ipython3",
   "version": "3.6.7"
  }
 },
 "nbformat": 4,
 "nbformat_minor": 2
}
