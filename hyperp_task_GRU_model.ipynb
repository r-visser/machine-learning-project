{
 "cells": [
  {
   "cell_type": "code",
   "execution_count": null,
   "metadata": {},
   "outputs": [],
   "source": [
    "import pandas as pd\n",
    "import numpy as np\n",
    "import re\n",
    "import os\n",
    "import pickle\n",
    "\n",
    "from sklearn.pipeline import Pipeline\n",
    "from sklearn.feature_extraction.text import CountVectorizer, TfidfVectorizer\n",
    "from sklearn.naive_bayes import MultinomialNB\n",
    "from sklearn.metrics import accuracy_score\n",
    "from sklearn.metrics import f1_score\n",
    "from sklearn.metrics import classification_report\n",
    "\n",
    "import keras.backend as K\n",
    "from keras.models import Model, Sequential, load_model\n",
    "from keras.layers.embeddings import Embedding\n",
    "from keras.layers.recurrent import GRU\n",
    "from keras.layers.core import Dense, Flatten\n",
    "from keras.layers import Dropout\n",
    "from keras.layers import Input\n",
    "from keras.utils import to_categorical\n",
    "from keras.layers import concatenate\n",
    "from keras.layers import Conv1D, GlobalAveragePooling1D, MaxPooling1D\n",
    "\n",
    "from keras.preprocessing.text import Tokenizer\n",
    "from keras.preprocessing.sequence import pad_sequences\n",
    "\n",
    "from nltk.corpus import stopwords\n",
    "from nltk.tokenize import word_tokenize\n",
    "from nltk.stem import WordNetLemmatizer\n",
    "\n",
    "from sklearn.preprocessing import label_binarize, OneHotEncoder\n",
    "# onehot_encoder = OneHotEncoder(sparse=False)\n",
    "\n",
    "import tensorflow as tf"
   ]
  },
  {
   "cell_type": "code",
   "execution_count": null,
   "metadata": {},
   "outputs": [],
   "source": [
    "folder = \"\"\n",
    "\n",
    "train_data = pd.read_csv(folder+'train_data.csv',\n",
    "                            sep='\\t',\n",
    "                        encoding='utf-8',\n",
    "                        index_col=0)\n",
    "\n",
    "test_data = pd.read_csv(folder+'test_data.csv',\n",
    "                            sep='\\t',\n",
    "                        encoding='utf-8',\n",
    "                        index_col=0)"
   ]
  },
  {
   "cell_type": "code",
   "execution_count": null,
   "metadata": {},
   "outputs": [],
   "source": [
    "num_bias_catergories=5\n",
    "num_hyperp_catergories=2\n",
    "\n",
    "bias_classes = train_data.bias.unique()\n",
    "hyperp_classes = train_data.hyperpartisan.unique()"
   ]
  },
  {
   "cell_type": "code",
   "execution_count": null,
   "metadata": {},
   "outputs": [],
   "source": [
    "train_data.head()"
   ]
  },
  {
   "cell_type": "code",
   "execution_count": null,
   "metadata": {},
   "outputs": [],
   "source": [
    "# Train and Test data\n",
    "trainX = train_data.textbody\n",
    "trainBiasY = label_binarize(train_data.bias, bias_classes) # one hot encoding\n",
    "trainHyperpY = label_binarize(train_data.hyperpartisan, hyperp_classes)\n",
    "trainHyperpY = np.hstack((trainHyperpY, 1 - trainHyperpY)) # convert to one hot encoding\n",
    "\n",
    "testX = test_data.textbody\n",
    "testBiasY = label_binarize(test_data.bias, bias_classes)\n",
    "testHyperpY = label_binarize(test_data.hyperpartisan, hyperp_classes)\n",
    "testHyperpY = np.hstack((testHyperpY, 1 - testHyperpY)) # convert to one hot encoding\n",
    "\n",
    "# trainXtitle = train_data.title\n",
    "# testXtitle = test_data.title"
   ]
  },
  {
   "cell_type": "code",
   "execution_count": null,
   "metadata": {},
   "outputs": [],
   "source": [
    "# Build text vocabulary\n",
    "allX = pd.concat([trainX, testX])\n",
    "\n",
    "maxLength=400\n",
    "max_vocab_size = 500000\n",
    "input_tokenizer = Tokenizer(max_vocab_size)\n",
    "input_tokenizer.fit_on_texts(allX)\n",
    "input_vocab_size = len(input_tokenizer.word_index) + 1\n",
    "print(\"input_vocab_size:\",input_vocab_size)\n",
    "\n",
    "word_index = input_tokenizer.word_index\n",
    "\n",
    "trainX_tokens = np.array(pad_sequences(input_tokenizer.texts_to_sequences(trainX), \n",
    "                                maxlen=maxLength, padding='post', truncating='post'))\n",
    "testX_tokens = np.array(pad_sequences(input_tokenizer.texts_to_sequences(testX), \n",
    "                                maxlen=maxLength, padding='post', truncating='post'))"
   ]
  },
  {
   "cell_type": "code",
   "execution_count": null,
   "metadata": {},
   "outputs": [],
   "source": [
    "len(trainX_tokens)"
   ]
  },
  {
   "cell_type": "code",
   "execution_count": null,
   "metadata": {},
   "outputs": [],
   "source": [
    "# Save train tokens\n",
    "[trainX_tokens_0, trainX_tokens_1] = np.array_split(trainX_tokens, 2)\n",
    "\n",
    "pickle.dump( trainX_tokens_0, open( \"trainX_tokens_0.p\", \"wb\" ) )\n",
    "pickle.dump( trainX_tokens_1, open( \"trainX_tokens_1.p\", \"wb\" ) )"
   ]
  },
  {
   "cell_type": "code",
   "execution_count": null,
   "metadata": {},
   "outputs": [],
   "source": [
    "# Save test tokens\n",
    "pickle.dump( testX_tokens, open( \"testX_tokens.p\", \"wb\" ) )"
   ]
  },
  {
   "cell_type": "code",
   "execution_count": null,
   "metadata": {},
   "outputs": [],
   "source": [
    "# Load tokens\n",
    "trainX_tokens_0 = pickle.load( open( \"trainX_tokens_0.p\", \"rb\" ) )\n",
    "trainX_tokens_1 = pickle.load( open( \"trainX_tokens_1.p\", \"rb\" ) )\n",
    "\n",
    "trainX_tokens = np.concatenate((trainX_tokens_0, trainX_tokens_1), axis=0)\n",
    "\n",
    "testX_tokens = pickle.load( open( \"testX_tokens.p\", \"rb\" ) )\n",
    "\n",
    "maxLength=400\n",
    "max_vocab_size = 500000\n",
    "input_vocab_size = 906855"
   ]
  },
  {
   "cell_type": "code",
   "execution_count": null,
   "metadata": {},
   "outputs": [],
   "source": [
    "# multi-task classification (multi-output, multi-loss)\n",
    "\n",
    "embedding_dim = 100  # working values:50 or 100\n",
    "\n",
    "# main input\n",
    "main_input = Input(shape=(maxLength, ), name='main_input')\n",
    "# x = Embedding(input_vocab_size, embedding_dim, input_length = maxLength)(main_input)\n",
    "x = Embedding(906855, embedding_dim, input_length = maxLength)(main_input)\n",
    "\n",
    "# x = Embedding(len(word_index) + 1,\n",
    "#                             embedding_dim,\n",
    "#                             weights=[embedding_matrix],\n",
    "#                             input_length=maxLength,\n",
    "#                             trainable=False)(main_input)\n",
    "\n",
    "\n",
    "# title input\n",
    "# title_input = Input(shape=(title_maxLength, ), name='title_input')\n",
    "# title_embedding = Embedding(title_input_vocab_size, embedding_dim, input_length = title_maxLength)(title_input)\n",
    "\n",
    "\n",
    "# title_input = Input(shape=(100, ), name='title_input')\n",
    "# main_input = Input(shape=(100, ), name='main_input')\n",
    "\n",
    "# merge inputs\n",
    "# x = concatenate([x, title_embedding])\n",
    "# x = concatenate([main_input, title_input])\n",
    "# x = main_input\n",
    "\n",
    "#### shared layers\n",
    "\n",
    "# Simple NN:\n",
    "# x = Flatten()(x)\n",
    "# x = Dense(input_dim = 100, units = 100, activation = 'relu')(x)\n",
    "# x = Dropout(0.9)(x)\n",
    "# x = Dense(units = 50, activation = 'relu')(x)\n",
    "# x = Dropout(0.9)(x)\n",
    "# x = Dense(units = 30, activation = 'relu')(x)\n",
    "# x = Dropout(0.8)(x)\n",
    "# x = Dense(units = 100, activation = 'relu')(x)\n",
    "# x = Dropout(0.6)(x)\n",
    "\n",
    "# Recurrent Units:\n",
    "# x = GRU(64, dropout=0.8, recurrent_dropout=0.3, return_sequences=True, input_shape=(embedding_dim,))(x)\n",
    "# x = Dropout(0.7)(x)\n",
    "x = GRU(32, dropout=0.9, recurrent_dropout=0.3, return_sequences=True, input_shape=(embedding_dim,))(x)\n",
    "x = Dropout(0.6)(x)\n",
    "x = GRU(32, dropout=0.8, recurrent_dropout=0.3, return_sequences=True, input_shape=(embedding_dim,))(x)\n",
    "# x = GRU(128, dropout=0.9)(x)\n",
    "\n",
    "x = Flatten()(x)\n",
    "\n",
    "\n",
    "#### output layers \n",
    "# bias layer\n",
    "bias_output = Dense(num_bias_catergories, activation='softmax', name=\"bias_output\")(x)\n",
    "# bias_output = Dense(num_bias_catergories, activation='relu', name=\"bias_output\")(x)\n",
    "\n",
    "# hyperp layer\n",
    "hyperp_output = Dense(num_hyperp_catergories, activation='softmax', name=\"hyperp_output\")(x)\n",
    "# hyperp_output = Dense(num_hyperp_catergories, activation='relu', name=\"hyperp_output\")(x)\n",
    "\n",
    "\n",
    "model = Model(#inputs = [main_input, title_input], \n",
    "                inputs = main_input, \n",
    "#               outputs = [bias_output, hyperp_output],\n",
    "                outputs = hyperp_output,\n",
    "              name = \"bias_classifier\")\n",
    "\n",
    "\n",
    "# define losses\n",
    "losses = {\n",
    "    \"bias_output\": \"categorical_crossentropy\",\n",
    "    \"hyperp_output\": \"categorical_crossentropy\",\n",
    "}\n",
    "lossWeights = {\"bias_output\": 1.0, \"hyperp_output\": 1.0}\n",
    "\n",
    "                \n",
    "# model.compile(loss=losses, loss_weights=lossWeights, optimizer='adam', metrics=['accuracy'])\n",
    "model.compile(loss=\"categorical_crossentropy\", optimizer='adam', metrics=['accuracy'])"
   ]
  },
  {
   "cell_type": "code",
   "execution_count": null,
   "metadata": {},
   "outputs": [],
   "source": [
    "# fit multi-task model\n",
    "history = model.fit(#{'main_input': trainX_tokens, 'title_input': trainXtitle_tokens},\n",
    "                    {'main_input': trainX_tokens},\n",
    "                    {\"bias_output\": trainBiasY, \"hyperp_output\": trainHyperpY},\n",
    "                    validation_data=(\n",
    "#                         {'main_input': testX_tokens, 'title_input': testXtitle_tokens},\n",
    "                        {'main_input': testX_tokens},\n",
    "                         {\"bias_output\": testBiasY, \"hyperp_output\": testHyperpY}),\n",
    "                    batch_size=512, \n",
    "                    epochs=1, \n",
    "                    shuffle = True,\n",
    "                    verbose=1)"
   ]
  },
  {
   "cell_type": "code",
   "execution_count": null,
   "metadata": {},
   "outputs": [],
   "source": [
    "model.save(\"model_XXXX\")"
   ]
  },
  {
   "cell_type": "code",
   "execution_count": null,
   "metadata": {},
   "outputs": [],
   "source": [
    "pickle.dump( history, open( \"history-model_XXXX.p\", \"wb\" ) )"
   ]
  },
  {
   "cell_type": "code",
   "execution_count": null,
   "metadata": {},
   "outputs": [],
   "source": [
    "# load model\n",
    "# model = load_model('model_XXXX')"
   ]
  },
  {
   "cell_type": "code",
   "execution_count": null,
   "metadata": {},
   "outputs": [],
   "source": [
    "# Predict labels\n",
    "predictHyperOutputs = model.predict({'main_input': testX_tokens}, batch_size=8192, verbose=1)\n",
    "\n",
    "# pred_classes_bias = np.argmax(predictBiasOutputs, axis=1)\n",
    "pred_classes_hyperp = np.argmax(predictHyperOutputs, axis=1)"
   ]
  },
  {
   "cell_type": "code",
   "execution_count": null,
   "metadata": {},
   "outputs": [],
   "source": [
    "# Convert Hyperparameter prediction to one-hot encoding\n",
    "x = label_binarize(pred_classes_hyperp, [0,1])\n",
    "x = np.hstack((1-x, x))\n",
    "pred_classes_hyperp = x"
   ]
  },
  {
   "cell_type": "code",
   "execution_count": null,
   "metadata": {},
   "outputs": [],
   "source": [
    "# Generate performance measures for prediction\n",
    "print(\"\\nHyperp performance:\")\n",
    "print(classification_report(testHyperpY, pred_classes_hyperp))\n",
    "print(\"Macro F1\", f1_score(testHyperpY, pred_classes_hyperp, average='macro'))"
   ]
  }
 ],
 "metadata": {
  "kernelspec": {
   "display_name": "Python 3",
   "language": "python",
   "name": "python3"
  },
  "language_info": {
   "codemirror_mode": {
    "name": "ipython",
    "version": 3
   },
   "file_extension": ".py",
   "mimetype": "text/x-python",
   "name": "python",
   "nbconvert_exporter": "python",
   "pygments_lexer": "ipython3",
   "version": "3.5.3"
  }
 },
 "nbformat": 4,
 "nbformat_minor": 1
}
